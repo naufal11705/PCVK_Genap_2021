{
  "nbformat": 4,
  "nbformat_minor": 0,
  "metadata": {
    "colab": {
      "provenance": [],
      "authorship_tag": "ABX9TyMAn0cf2xWBD9H6tBiyj962",
      "include_colab_link": true
    },
    "kernelspec": {
      "name": "python3",
      "display_name": "Python 3"
    },
    "language_info": {
      "name": "python"
    }
  },
  "cells": [
    {
      "cell_type": "markdown",
      "metadata": {
        "id": "view-in-github",
        "colab_type": "text"
      },
      "source": [
        "<a href=\"https://colab.research.google.com/github/naufal11705/PCVK_Genap_2021/blob/main/Week1.ipynb\" target=\"_parent\"><img src=\"https://colab.research.google.com/assets/colab-badge.svg\" alt=\"Open In Colab\"/></a>"
      ]
    },
    {
      "cell_type": "code",
      "execution_count": null,
      "metadata": {
        "id": "dx16MamfhqvA"
      },
      "outputs": [],
      "source": [
        "import numpy as np\n",
        "import pandas as pd\n",
        "from google.colab.patches import cv2_imshow\n",
        "from skimage import io\n",
        "from skimage import transform\n",
        "from PIL import Image\n",
        "import matplotlib.pyplot as plt\n",
        "\n",
        "urls = [\"https://iiif.lib.ncsu.edu/iiif/0052574\n",
        "/full/800,/0/default.jpg\",\"https://iiif.lib.ncsu.edu/iiif\n",
        "/0016007/full/800,/0/default.jpg\",\"https://placekitten.co\n",
        "m/800/571\"]\n",
        "\n",
        "for url in urls:\n",
        "        image = io.imread(url)\n",
        "        image = cv.resize(image, (0,0), fx=0.5, fy=0.5)\n",
        "        image_2 = cv.cvtColor(image, cv.COLOR_BGR2RGB)\n",
        "        final_frame = cv.hconcat"
      ]
    }
  ]
}